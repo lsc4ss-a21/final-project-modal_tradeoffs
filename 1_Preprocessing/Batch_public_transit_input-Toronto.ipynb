{
 "cells": [
  {
   "cell_type": "markdown",
   "metadata": {},
   "source": [
    "# Split buildings input into batches and format for the routing matrix for public transit"
   ]
  },
  {
   "cell_type": "code",
   "execution_count": 1,
   "metadata": {},
   "outputs": [],
   "source": [
    "import pandas as pd\n",
    "import requests\n",
    "import boto3\n",
    "import json"
   ]
  },
  {
   "cell_type": "code",
   "execution_count": 2,
   "metadata": {},
   "outputs": [],
   "source": [
    "s3 = boto3.client('s3')\n",
    "\n",
    "origins_list = []\n",
    "for i in range(12):\n",
    "    fileobj = s3.get_object(Bucket='bl-buildings',Key='Inputs/Ontario_' + str(i)) \n",
    "    text = fileobj[\"Body\"].read().decode()\n",
    "    origins = json.loads(text.replace('\"\"', \"''\"))[\"sources\"]\n",
    "    origins_list += origins"
   ]
  },
  {
   "cell_type": "code",
   "execution_count": 3,
   "metadata": {},
   "outputs": [
    {
     "data": {
      "text/plain": [
       "13324.0"
      ]
     },
     "execution_count": 3,
     "metadata": {},
     "output_type": "execute_result"
    }
   ],
   "source": [
    "len(origins_list)/4"
   ]
  },
  {
   "cell_type": "code",
   "execution_count": 6,
   "metadata": {},
   "outputs": [],
   "source": [
    "batch_size = int(len(origins_list)/4)\n",
    "\n",
    "for batch in range(0,4):\n",
    "\n",
    "    with open(\"public_transit_batch_\" + str(batch) + \".json\", 'w') as f1:\n",
    "\n",
    "        for i in range(batch*batch_size, (batch+1)*batch_size):\n",
    "            input_dict = {}\n",
    "            input_dict[\"locations\"]=[origins_list[i],{\"lat\": 43.6548, \"lon\": -79.3883}]\n",
    "            input_dict[\"costing\"]=\"multimodal\"\n",
    "            input_dict[\"date_time\"]={\"type\":1,\"value\":\"2021-12-08T11:00\"}\n",
    "            json.dump(input_dict,f1)\n",
    "            f1.write(\"\\n\")"
   ]
  },
  {
   "cell_type": "code",
   "execution_count": 12,
   "metadata": {},
   "outputs": [],
   "source": [
    "for batch in range(0,4):\n",
    "    s3.upload_file(Bucket='bl-buildings', \n",
    "                  Key='Inputs/Ontario_public_transit_batch_' + str(batch), \n",
    "                  Filename=\"public_transit_batch_\" + str(batch) + \".json\")"
   ]
  },
  {
   "cell_type": "code",
   "execution_count": null,
   "metadata": {},
   "outputs": [],
   "source": []
  },
  {
   "cell_type": "code",
   "execution_count": null,
   "metadata": {},
   "outputs": [],
   "source": []
  }
 ],
 "metadata": {
  "kernelspec": {
   "display_name": "Python 3 (ipykernel)",
   "language": "python",
   "name": "python3"
  },
  "language_info": {
   "codemirror_mode": {
    "name": "ipython",
    "version": 3
   },
   "file_extension": ".py",
   "mimetype": "text/x-python",
   "name": "python",
   "nbconvert_exporter": "python",
   "pygments_lexer": "ipython3",
   "version": "3.7.11"
  }
 },
 "nbformat": 4,
 "nbformat_minor": 2
}
