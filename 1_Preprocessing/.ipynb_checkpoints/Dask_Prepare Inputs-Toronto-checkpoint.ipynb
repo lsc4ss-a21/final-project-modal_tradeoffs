{
 "cells": [
  {
   "cell_type": "markdown",
   "id": "d32edeb8",
   "metadata": {},
   "source": [
    "# Prepare buildings data for matrix computations"
   ]
  },
  {
   "cell_type": "code",
   "execution_count": 1,
   "id": "d94eeb75",
   "metadata": {},
   "outputs": [],
   "source": [
    "import numpy as np\n",
    "import geopandas as gpd\n",
    "import pandas as pd\n",
    "\n",
    "import dask.dataframe as dd\n",
    "import dask_geopandas\n",
    "\n",
    "nparts = 4"
   ]
  },
  {
   "cell_type": "code",
   "execution_count": 2,
   "id": "108a8d14",
   "metadata": {},
   "outputs": [],
   "source": [
    "import pyproj"
   ]
  },
  {
   "cell_type": "code",
   "execution_count": 3,
   "id": "e6d272e1",
   "metadata": {},
   "outputs": [],
   "source": [
    "df = gpd.read_file(\"Ontario.geojson\").set_crs(epsg=4326)"
   ]
  },
  {
   "cell_type": "code",
   "execution_count": 4,
   "id": "75332e87",
   "metadata": {},
   "outputs": [],
   "source": [
    "toronto_bounds = gpd.read_file(\"toronto_boundary.geojson\").set_crs(epsg=4326)"
   ]
  },
  {
   "cell_type": "code",
   "execution_count": 5,
   "id": "6479a514",
   "metadata": {},
   "outputs": [
    {
     "data": {
      "text/html": [
       "<div>\n",
       "<style scoped>\n",
       "    .dataframe tbody tr th:only-of-type {\n",
       "        vertical-align: middle;\n",
       "    }\n",
       "\n",
       "    .dataframe tbody tr th {\n",
       "        vertical-align: top;\n",
       "    }\n",
       "\n",
       "    .dataframe thead th {\n",
       "        text-align: right;\n",
       "    }\n",
       "</style>\n",
       "<table border=\"1\" class=\"dataframe\">\n",
       "  <thead>\n",
       "    <tr style=\"text-align: right;\">\n",
       "      <th></th>\n",
       "      <th>geometry</th>\n",
       "    </tr>\n",
       "  </thead>\n",
       "  <tbody>\n",
       "    <tr>\n",
       "      <th>0</th>\n",
       "      <td>GEOMETRYCOLLECTION (MULTIPOLYGON (((-79.49263 ...</td>\n",
       "    </tr>\n",
       "  </tbody>\n",
       "</table>\n",
       "</div>"
      ],
      "text/plain": [
       "                                            geometry\n",
       "0  GEOMETRYCOLLECTION (MULTIPOLYGON (((-79.49263 ..."
      ]
     },
     "execution_count": 5,
     "metadata": {},
     "output_type": "execute_result"
    }
   ],
   "source": [
    "toronto_bounds"
   ]
  },
  {
   "cell_type": "code",
   "execution_count": 6,
   "id": "166498c8",
   "metadata": {},
   "outputs": [],
   "source": [
    "ddf = dask_geopandas.from_geopandas(df, npartitions=nparts)"
   ]
  },
  {
   "cell_type": "code",
   "execution_count": 7,
   "id": "93724c41",
   "metadata": {},
   "outputs": [],
   "source": [
    "ddf = ddf[ddf.within(toronto_bounds.geometry[0])]"
   ]
  },
  {
   "cell_type": "code",
   "execution_count": 8,
   "id": "edd6e5ec",
   "metadata": {},
   "outputs": [],
   "source": [
    "# ontario data comes in polygons, so convert to geometric CRS and get centroid, then convert back to lat long\n",
    "ddf[\"centroid\"] = ddf.to_crs(epsg=4087).geometry.centroid.to_crs(epsg=4326)"
   ]
  },
  {
   "cell_type": "code",
   "execution_count": 9,
   "id": "062670f0",
   "metadata": {},
   "outputs": [],
   "source": [
    "# break out lat long into their own columns\n",
    "ddf[\"lat\"] = ddf[\"centroid\"].y\n",
    "ddf[\"lon\"] = ddf[\"centroid\"].x"
   ]
  },
  {
   "cell_type": "code",
   "execution_count": 10,
   "id": "04a13e96",
   "metadata": {},
   "outputs": [
    {
     "data": {
      "text/html": [
       "<div>\n",
       "<style scoped>\n",
       "    .dataframe tbody tr th:only-of-type {\n",
       "        vertical-align: middle;\n",
       "    }\n",
       "\n",
       "    .dataframe tbody tr th {\n",
       "        vertical-align: top;\n",
       "    }\n",
       "\n",
       "    .dataframe thead th {\n",
       "        text-align: right;\n",
       "    }\n",
       "</style>\n",
       "<table border=\"1\" class=\"dataframe\">\n",
       "  <thead>\n",
       "    <tr style=\"text-align: right;\">\n",
       "      <th></th>\n",
       "      <th>geometry</th>\n",
       "      <th>centroid</th>\n",
       "      <th>lat</th>\n",
       "      <th>lon</th>\n",
       "    </tr>\n",
       "  </thead>\n",
       "  <tbody>\n",
       "    <tr>\n",
       "      <th>1653</th>\n",
       "      <td>POLYGON ((-79.41231 43.70879, -79.41237 43.708...</td>\n",
       "      <td>POINT (-79.41242 43.70886)</td>\n",
       "      <td>43.708857</td>\n",
       "      <td>-79.412416</td>\n",
       "    </tr>\n",
       "    <tr>\n",
       "      <th>1654</th>\n",
       "      <td>POLYGON ((-79.40951 43.70889, -79.40939 43.708...</td>\n",
       "      <td>POINT (-79.40948 43.70896)</td>\n",
       "      <td>43.708958</td>\n",
       "      <td>-79.409479</td>\n",
       "    </tr>\n",
       "    <tr>\n",
       "      <th>1655</th>\n",
       "      <td>POLYGON ((-79.41501 43.71027, -79.41495 43.710...</td>\n",
       "      <td>POINT (-79.41493 43.71022)</td>\n",
       "      <td>43.710219</td>\n",
       "      <td>-79.414928</td>\n",
       "    </tr>\n",
       "    <tr>\n",
       "      <th>1656</th>\n",
       "      <td>POLYGON ((-79.41321 43.71193, -79.41325 43.712...</td>\n",
       "      <td>POINT (-79.41330 43.71197)</td>\n",
       "      <td>43.711973</td>\n",
       "      <td>-79.413304</td>\n",
       "    </tr>\n",
       "    <tr>\n",
       "      <th>1657</th>\n",
       "      <td>POLYGON ((-79.41515 43.71513, -79.41519 43.715...</td>\n",
       "      <td>POINT (-79.41524 43.71517)</td>\n",
       "      <td>43.715173</td>\n",
       "      <td>-79.415241</td>\n",
       "    </tr>\n",
       "    <tr>\n",
       "      <th>...</th>\n",
       "      <td>...</td>\n",
       "      <td>...</td>\n",
       "      <td>...</td>\n",
       "      <td>...</td>\n",
       "    </tr>\n",
       "    <tr>\n",
       "      <th>3779934</th>\n",
       "      <td>POLYGON ((-79.47896 43.65441, -79.47893 43.654...</td>\n",
       "      <td>POINT (-79.47887 43.65436)</td>\n",
       "      <td>43.654359</td>\n",
       "      <td>-79.478868</td>\n",
       "    </tr>\n",
       "    <tr>\n",
       "      <th>3779935</th>\n",
       "      <td>POLYGON ((-79.47934 43.64538, -79.47929 43.645...</td>\n",
       "      <td>POINT (-79.47924 43.64533)</td>\n",
       "      <td>43.645327</td>\n",
       "      <td>-79.479236</td>\n",
       "    </tr>\n",
       "    <tr>\n",
       "      <th>3779936</th>\n",
       "      <td>POLYGON ((-79.47800 43.64637, -79.47798 43.646...</td>\n",
       "      <td>POINT (-79.47786 43.64636)</td>\n",
       "      <td>43.646360</td>\n",
       "      <td>-79.477864</td>\n",
       "    </tr>\n",
       "    <tr>\n",
       "      <th>3779937</th>\n",
       "      <td>POLYGON ((-79.47298 43.65540, -79.47287 43.655...</td>\n",
       "      <td>POINT (-79.47293 43.65546)</td>\n",
       "      <td>43.655456</td>\n",
       "      <td>-79.472928</td>\n",
       "    </tr>\n",
       "    <tr>\n",
       "      <th>3779938</th>\n",
       "      <td>POLYGON ((-79.45469 43.65666, -79.45471 43.656...</td>\n",
       "      <td>POINT (-79.45490 43.65665)</td>\n",
       "      <td>43.656655</td>\n",
       "      <td>-79.454898</td>\n",
       "    </tr>\n",
       "  </tbody>\n",
       "</table>\n",
       "<p>53296 rows × 4 columns</p>\n",
       "</div>"
      ],
      "text/plain": [
       "                                                  geometry  \\\n",
       "1653     POLYGON ((-79.41231 43.70879, -79.41237 43.708...   \n",
       "1654     POLYGON ((-79.40951 43.70889, -79.40939 43.708...   \n",
       "1655     POLYGON ((-79.41501 43.71027, -79.41495 43.710...   \n",
       "1656     POLYGON ((-79.41321 43.71193, -79.41325 43.712...   \n",
       "1657     POLYGON ((-79.41515 43.71513, -79.41519 43.715...   \n",
       "...                                                    ...   \n",
       "3779934  POLYGON ((-79.47896 43.65441, -79.47893 43.654...   \n",
       "3779935  POLYGON ((-79.47934 43.64538, -79.47929 43.645...   \n",
       "3779936  POLYGON ((-79.47800 43.64637, -79.47798 43.646...   \n",
       "3779937  POLYGON ((-79.47298 43.65540, -79.47287 43.655...   \n",
       "3779938  POLYGON ((-79.45469 43.65666, -79.45471 43.656...   \n",
       "\n",
       "                           centroid        lat        lon  \n",
       "1653     POINT (-79.41242 43.70886)  43.708857 -79.412416  \n",
       "1654     POINT (-79.40948 43.70896)  43.708958 -79.409479  \n",
       "1655     POINT (-79.41493 43.71022)  43.710219 -79.414928  \n",
       "1656     POINT (-79.41330 43.71197)  43.711973 -79.413304  \n",
       "1657     POINT (-79.41524 43.71517)  43.715173 -79.415241  \n",
       "...                             ...        ...        ...  \n",
       "3779934  POINT (-79.47887 43.65436)  43.654359 -79.478868  \n",
       "3779935  POINT (-79.47924 43.64533)  43.645327 -79.479236  \n",
       "3779936  POINT (-79.47786 43.64636)  43.646360 -79.477864  \n",
       "3779937  POINT (-79.47293 43.65546)  43.655456 -79.472928  \n",
       "3779938  POINT (-79.45490 43.65665)  43.656655 -79.454898  \n",
       "\n",
       "[53296 rows x 4 columns]"
      ]
     },
     "execution_count": 10,
     "metadata": {},
     "output_type": "execute_result"
    }
   ],
   "source": [
    "ddf.compute()"
   ]
  },
  {
   "cell_type": "code",
   "execution_count": 11,
   "id": "660cf0fe",
   "metadata": {},
   "outputs": [],
   "source": [
    "coords_ddf = ddf[[\"lat\",\"lon\"]]"
   ]
  },
  {
   "cell_type": "code",
   "execution_count": 12,
   "id": "4f00c13b",
   "metadata": {},
   "outputs": [
    {
     "data": {
      "text/html": [
       "<div><strong>Dask DataFrame Structure:</strong></div>\n",
       "<div>\n",
       "<style scoped>\n",
       "    .dataframe tbody tr th:only-of-type {\n",
       "        vertical-align: middle;\n",
       "    }\n",
       "\n",
       "    .dataframe tbody tr th {\n",
       "        vertical-align: top;\n",
       "    }\n",
       "\n",
       "    .dataframe thead th {\n",
       "        text-align: right;\n",
       "    }\n",
       "</style>\n",
       "<table border=\"1\" class=\"dataframe\">\n",
       "  <thead>\n",
       "    <tr style=\"text-align: right;\">\n",
       "      <th></th>\n",
       "      <th>lat</th>\n",
       "      <th>lon</th>\n",
       "    </tr>\n",
       "    <tr>\n",
       "      <th>npartitions=4</th>\n",
       "      <th></th>\n",
       "      <th></th>\n",
       "    </tr>\n",
       "  </thead>\n",
       "  <tbody>\n",
       "    <tr>\n",
       "      <th>0</th>\n",
       "      <td>float64</td>\n",
       "      <td>float64</td>\n",
       "    </tr>\n",
       "    <tr>\n",
       "      <th>945462</th>\n",
       "      <td>...</td>\n",
       "      <td>...</td>\n",
       "    </tr>\n",
       "    <tr>\n",
       "      <th>1890924</th>\n",
       "      <td>...</td>\n",
       "      <td>...</td>\n",
       "    </tr>\n",
       "    <tr>\n",
       "      <th>2836386</th>\n",
       "      <td>...</td>\n",
       "      <td>...</td>\n",
       "    </tr>\n",
       "    <tr>\n",
       "      <th>3781846</th>\n",
       "      <td>...</td>\n",
       "      <td>...</td>\n",
       "    </tr>\n",
       "  </tbody>\n",
       "</table>\n",
       "</div>\n",
       "<div>Dask Name: getitem, 60 tasks</div>"
      ],
      "text/plain": [
       "Dask DataFrame Structure:\n",
       "                   lat      lon\n",
       "npartitions=4                  \n",
       "0              float64  float64\n",
       "945462             ...      ...\n",
       "1890924            ...      ...\n",
       "2836386            ...      ...\n",
       "3781846            ...      ...\n",
       "Dask Name: getitem, 60 tasks"
      ]
     },
     "execution_count": 12,
     "metadata": {},
     "output_type": "execute_result"
    }
   ],
   "source": [
    "coords_ddf"
   ]
  },
  {
   "cell_type": "code",
   "execution_count": 13,
   "id": "4307e5f4",
   "metadata": {},
   "outputs": [],
   "source": [
    "import dask.bag as db\n",
    "coords_dict = db.from_delayed(coords_ddf.map_partitions(pd.DataFrame.to_dict, orient='records').to_delayed())"
   ]
  },
  {
   "cell_type": "code",
   "execution_count": 15,
   "id": "6e354c7b",
   "metadata": {},
   "outputs": [
    {
     "data": {
      "text/plain": [
       "['/home/hadoop/coords_0.json',\n",
       " '/home/hadoop/coords_1.json',\n",
       " '/home/hadoop/coords_2.json',\n",
       " '/home/hadoop/coords_3.json']"
      ]
     },
     "execution_count": 15,
     "metadata": {},
     "output_type": "execute_result"
    }
   ],
   "source": [
    "import json\n",
    "coords_dict.map(json.dumps).to_textfiles('coords_*.json')"
   ]
  },
  {
   "cell_type": "code",
   "execution_count": null,
   "id": "4e0fa0a2",
   "metadata": {},
   "outputs": [],
   "source": []
  },
  {
   "cell_type": "code",
   "execution_count": 16,
   "id": "d0b8d6ed",
   "metadata": {},
   "outputs": [],
   "source": [
    "def write_comma_sep_dict(filename, f_w):\n",
    "    count = 0\n",
    "    with open(filename) as f_r:\n",
    "\n",
    "        lines = f_r.readlines()\n",
    "\n",
    "        for line in lines:\n",
    "\n",
    "            if count != 0:\n",
    "                f_w.write(\",\")\n",
    "\n",
    "            f_w.write(line.strip())\n",
    "\n",
    "            count += 1\n",
    "    \n",
    "    f_r.close()"
   ]
  },
  {
   "cell_type": "code",
   "execution_count": 17,
   "id": "0283aa01",
   "metadata": {},
   "outputs": [],
   "source": [
    "def write_input_json(write_filename, coords_filename, costing_type=\"auto\"):\n",
    "    \n",
    "    f = open(write_filename, \"w\")\n",
    "    \n",
    "    f.write('{\"sources\":[')\n",
    "\n",
    "    write_comma_sep_dict(coords_filename, f)\n",
    "\n",
    "    f.write('],\"targets\":[')\n",
    "\n",
    "    write_comma_sep_dict(coords_filename, f)\n",
    "\n",
    "    f.write('],\"costing\":\"' + costing_type + '\"}')\n",
    "\n",
    "    f.close()"
   ]
  },
  {
   "cell_type": "code",
   "execution_count": 18,
   "id": "f303481a",
   "metadata": {},
   "outputs": [],
   "source": [
    "for i in range(nparts):\n",
    "    write_input_json(\"Ontario_\" + str(i) +\".json\", \"coords_\"+ str(i) +\".json\")"
   ]
  },
  {
   "cell_type": "code",
   "execution_count": null,
   "id": "34c6c552",
   "metadata": {},
   "outputs": [],
   "source": []
  },
  {
   "cell_type": "code",
   "execution_count": 19,
   "id": "299fefdb",
   "metadata": {},
   "outputs": [],
   "source": [
    "import boto3\n",
    "import json"
   ]
  },
  {
   "cell_type": "code",
   "execution_count": 20,
   "id": "f89a7f17",
   "metadata": {},
   "outputs": [],
   "source": [
    "s3 = boto3.client('s3')\n",
    "s3_resource = boto3.resource('s3')"
   ]
  },
  {
   "cell_type": "code",
   "execution_count": 25,
   "id": "bd015945",
   "metadata": {},
   "outputs": [],
   "source": [
    "for i in range(nparts):\n",
    "    s3_resource.Bucket('bl-buildings').upload_file(\"Ontario_\" + str(i) + \".json\", Key=\"Ontario_\" + str(i))"
   ]
  },
  {
   "cell_type": "code",
   "execution_count": null,
   "id": "c2ca36b3",
   "metadata": {},
   "outputs": [],
   "source": []
  }
 ],
 "metadata": {
  "kernelspec": {
   "display_name": "Python 3 (ipykernel)",
   "language": "python",
   "name": "python3"
  },
  "language_info": {
   "codemirror_mode": {
    "name": "ipython",
    "version": 3
   },
   "file_extension": ".py",
   "mimetype": "text/x-python",
   "name": "python",
   "nbconvert_exporter": "python",
   "pygments_lexer": "ipython3",
   "version": "3.7.11"
  }
 },
 "nbformat": 4,
 "nbformat_minor": 5
}
