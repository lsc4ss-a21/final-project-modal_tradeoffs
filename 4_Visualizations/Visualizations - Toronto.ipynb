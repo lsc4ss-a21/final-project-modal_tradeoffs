{
 "cells": [
  {
   "cell_type": "code",
   "execution_count": 1,
   "id": "5acb0007",
   "metadata": {},
   "outputs": [
    {
     "name": "stderr",
     "output_type": "stream",
     "text": [
      "/home/hadoop/miniconda/lib/python3.7/site-packages/dask_yarn/core.py:16: FutureWarning: format_bytes is deprecated and will be removed in a future release. Please use dask.utils.format_bytes instead.\n",
      "  from distributed.utils import (\n",
      "/home/hadoop/miniconda/lib/python3.7/site-packages/dask_yarn/core.py:16: FutureWarning: parse_timedelta is deprecated and will be removed in a future release. Please use dask.utils.parse_timedelta instead.\n",
      "  from distributed.utils import (\n",
      "distributed.scheduler - INFO - Clear task state\n",
      "distributed.scheduler - INFO -   Scheduler at:  tcp://172.31.15.79:42407\n",
      "distributed.scheduler - INFO -   dashboard at:                    :39595\n",
      "distributed.scheduler - INFO - Receive client connection: Client-217f14ac-5a34-11ec-871e-02a73e572171\n",
      "distributed.core - INFO - Starting established connection\n"
     ]
    }
   ],
   "source": [
    "from dask_yarn import YarnCluster\n",
    "from dask.distributed import Client\n",
    "\n",
    "# Create a cluster where each worker has 1 cores and 2 GiB of memory:\n",
    "cluster = YarnCluster(environment=\"/home/hadoop/environment.tar.gz\",\n",
    "                      worker_vcores = 1,\n",
    "                      worker_memory = \"2GiB\"\n",
    "                      )\n",
    "\n",
    "# Scale cluster out to 8 such workers:\n",
    "cluster.scale(8)\n",
    "\n",
    "# Connect to the cluster (before proceeding, you should wait for workers to be registered by the dask scheduler, as below):\n",
    "client = Client(cluster)"
   ]
  },
  {
   "cell_type": "code",
   "execution_count": null,
   "id": "baf16586",
   "metadata": {},
   "outputs": [],
   "source": [
    "import dask.dataframe as dd\n",
    "\n",
    "df = dd.read_csv('s3://bl-buildings/Outputs/final_df_mercator.csv').persist()\n",
    "df.tail()"
   ]
  },
  {
   "cell_type": "code",
   "execution_count": null,
   "id": "13842f66",
   "metadata": {},
   "outputs": [],
   "source": [
    "import numpy as np\n",
    "import holoviews as hv\n",
    "from holoviews import opts\n",
    "hv.extension('matplotlib') # specify matplotlib as backend"
   ]
  },
  {
   "cell_type": "code",
   "execution_count": null,
   "id": "fbb1dfc8",
   "metadata": {},
   "outputs": [],
   "source": [
    "from holoviews.element.tiles import StamenTerrain\n",
    "hv.extension('bokeh')"
   ]
  },
  {
   "cell_type": "code",
   "execution_count": null,
   "id": "f8bdb659",
   "metadata": {},
   "outputs": [],
   "source": [
    "plot_width  = int(750)\n",
    "plot_height = int(plot_width//1.2)\n",
    "x_range, y_range = (-8832869-20000, -8832869+20000), (5411602-20000, 5411602+20000)\n",
    "plot_options = hv.Options(width=plot_width, height=plot_height, xaxis=None, yaxis=None)\n",
    "opts.defaults(\n",
    "    opts.Points(width=plot_width, height=plot_height, size=5, color='blue'),\n",
    "    opts.Overlay(width=plot_width, height=plot_height, xaxis=None, yaxis=None),\n",
    "    opts.RGB(width=plot_width, height=plot_height))\n",
    "\n",
    "samples = df.sample(frac=.05)\n",
    "tiles = StamenTerrain().redim.range(x=x_range, y=y_range)\n",
    "points = hv.Points(samples, ['x', 'y'])\n",
    "(tiles * points)"
   ]
  },
  {
   "cell_type": "code",
   "execution_count": null,
   "id": "210df180",
   "metadata": {},
   "outputs": [],
   "source": [
    "from bokeh.models import HoverTool\n",
    "\n",
    "points = hv.Points(samples, ['x', 'y'], ['auto_time', 'bicycle_time', 'pedestrian_time'])\n",
    "\n",
    "tooltips = [\n",
    "    ('auto_time', '@auto_time'),\n",
    "    ('bicycle_time', '@bicycle_time'),\n",
    "    ('pedestrian_time', '@pedestrian_time')\n",
    "]\n",
    "\n",
    "hover = HoverTool(tooltips=tooltips)\n",
    "\n",
    "(tiles * points.opts(tools=[hover]))"
   ]
  },
  {
   "cell_type": "code",
   "execution_count": null,
   "id": "54885d25",
   "metadata": {},
   "outputs": [],
   "source": [
    "import datashader as ds\n",
    "from datashader import transfer_functions as tf\n",
    "from datashader.colors import Greys9\n",
    "Greys9_r = list(reversed(Greys9))[:-2]\n",
    "\n",
    "# Create empty canvas to draw image:\n",
    "cvs = ds.Canvas(plot_width=plot_width, plot_height=plot_height, x_range=x_range, y_range=y_range)\n",
    "\n",
    "# Compute pixel-level aggregation (count number of points within a given pixel square)\n",
    "# Note that datashader supports multiple reduction operations out of the box -- sum, mean, etc...\n",
    "agg = cvs.points(df[['x', 'y', 'auto_time']], 'x', 'y',  ds.mean(column=\"auto_time\"))\n",
    "\n",
    "# Shade pixels according to number of points within pixel (higher count = darker)\n",
    "img = tf.shade(agg, cmap=Greys9_r)"
   ]
  },
  {
   "cell_type": "code",
   "execution_count": null,
   "id": "cdc8ccd6",
   "metadata": {},
   "outputs": [],
   "source": [
    "img"
   ]
  },
  {
   "cell_type": "code",
   "execution_count": null,
   "id": "9322459b",
   "metadata": {},
   "outputs": [],
   "source": [
    "import holoviews.operation.datashader as hd\n",
    "from datashader.colors import Hot\n",
    "hv.extension('bokeh')\n",
    "\n",
    "shaded = hd.datashade(hv.Points(df[['x', 'y', 'auto_time']], ['x', 'y']),\n",
    "                      cmap=Hot,\n",
    "                      aggregator=ds.mean(column=\"auto_time\"))\n",
    "viz = hd.dynspread(shaded).opts(bgcolor='black', xaxis=None, yaxis=None, width=900, height=500)\n",
    "viz"
   ]
  },
  {
   "cell_type": "code",
   "execution_count": null,
   "id": "69f5b9c4",
   "metadata": {},
   "outputs": [],
   "source": []
  },
  {
   "cell_type": "code",
   "execution_count": null,
   "id": "d6984265",
   "metadata": {},
   "outputs": [],
   "source": []
  }
 ],
 "metadata": {
  "kernelspec": {
   "display_name": "Python 3",
   "language": "python",
   "name": "python3"
  },
  "language_info": {
   "codemirror_mode": {
    "name": "ipython",
    "version": 3
   },
   "file_extension": ".py",
   "mimetype": "text/x-python",
   "name": "python",
   "nbconvert_exporter": "python",
   "pygments_lexer": "ipython3",
   "version": "3.7.7"
  }
 },
 "nbformat": 4,
 "nbformat_minor": 5
}
