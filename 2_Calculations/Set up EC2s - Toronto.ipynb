{
 "cells": [
  {
   "cell_type": "markdown",
   "id": "df8883c4",
   "metadata": {},
   "source": [
    "# Spin up EC2 instances"
   ]
  },
  {
   "cell_type": "code",
   "execution_count": null,
   "id": "564b5717",
   "metadata": {},
   "outputs": [],
   "source": [
    "import boto3\n",
    "import time\n",
    "\n",
    "n_instances = 4\n",
    "\n",
    "session = boto3.Session()\n",
    "\n",
    "ec2 = session.resource('ec2')\n",
    "ec2_client = session.client('ec2')\n",
    "\n",
    "instances = ec2.create_instances(ImageId='ami-083654bd07b5da81d',\n",
    "                                 MinCount=1,\n",
    "                                 MaxCount=n_instances,\n",
    "                                 InstanceType='m5.large',\n",
    "                                 KeyName='mac30123',\n",
    "                                 SecurityGroupIds=['sg-0909ca9f17b315453'],\n",
    "                                 SecurityGroups=['q3-test-policy'],\n",
    "                                 IamInstanceProfile=\n",
    "                                     {'Name': 'EMR_EC2_DefaultRole'},\n",
    "                                )\n",
    "\n",
    "# Wait until EC2 instances are running before moving on\n",
    "waiter = ec2_client.get_waiter('instance_running')\n",
    "waiter.wait(InstanceIds=[instance.id for instance in instances])\n",
    "\n",
    "# Get instances list\n",
    "instance_dns = [instance.public_dns_name \n",
    "                 for instance in ec2.instances.all() \n",
    "                 if instance.state['Name'] == 'running'\n",
    "               ]\n",
    "\n",
    "import paramiko\n",
    "from scp import SCPClient\n",
    "\n",
    "ssh_list = []\n",
    "\n",
    "for instance in range(n_instances):\n",
    "    ssh = paramiko.SSHClient()\n",
    "    ssh_list.append(ssh)\n",
    "    \n",
    "time.sleep(60)"
   ]
  },
  {
   "cell_type": "code",
   "execution_count": 20,
   "id": "b0db488e",
   "metadata": {},
   "outputs": [
    {
     "name": "stdout",
     "output_type": "stream",
     "text": [
      "docker installation status for instance 0:\n",
      "0\n",
      "docker installation status for instance 1:\n",
      "0\n",
      "docker installation status for instance 2:\n",
      "0\n",
      "docker installation status for instance 3:\n",
      "0\n"
     ]
    }
   ],
   "source": [
    "# Copy over relevant files and then restart ssh because you need to exit and re-enter to config usermod\n",
    "stdin, stdout, stderr = [[None, None] for i in range(3)]\n",
    "for instance in range(n_instances):\n",
    "    ssh = ssh_list[instance]\n",
    "    ssh.set_missing_host_key_policy(paramiko.AutoAddPolicy())\n",
    "    ssh.connect(instance_dns[instance],\n",
    "                username = 'ubuntu',\n",
    "                key_filename='/Users/bli/mac30123.pem')\n",
    "    \n",
    "    with SCPClient(ssh.get_transport()) as scp:\n",
    "        scp.put(\"install_docker.sh\")\n",
    "        \n",
    "    stdin, stdout, stderr = ssh.exec_command(\"bash install_docker.sh \" + str(instance))\n",
    "\n",
    "    print(\"docker installation status for instance \" + str(instance) + \":\")\n",
    "    print(stdout.channel.recv_exit_status())\n",
    "\n",
    "    ssh.close()"
   ]
  },
  {
   "cell_type": "code",
   "execution_count": 22,
   "id": "a2593a47",
   "metadata": {},
   "outputs": [
    {
     "name": "stdout",
     "output_type": "stream",
     "text": [
      "ssh -i \"mac30123.pem\" ubuntu@ec2-54-90-88-251.compute-1.amazonaws.com\n",
      "ssh -i \"mac30123.pem\" ubuntu@ec2-34-227-46-141.compute-1.amazonaws.com\n",
      "ssh -i \"mac30123.pem\" ubuntu@ec2-3-87-124-205.compute-1.amazonaws.com\n",
      "ssh -i \"mac30123.pem\" ubuntu@ec2-3-80-95-15.compute-1.amazonaws.com\n"
     ]
    }
   ],
   "source": [
    "for instance_id in instance_dns:\n",
    "    print('ssh -i \"mac30123.pem\" ubuntu@' + instance_id)"
   ]
  },
  {
   "cell_type": "code",
   "execution_count": null,
   "id": "88688a88",
   "metadata": {},
   "outputs": [],
   "source": [
    "# Terminate EC2 Instances:\n",
    "ec2_client.terminate_instances(InstanceIds=[instance.id for instance in instances])\n",
    "\n",
    "# Confirm that EC2 instances were terminated:\n",
    "waiter = ec2_client.get_waiter('instance_terminated')\n",
    "waiter.wait(InstanceIds=[instance.id for instance in instances])\n",
    "print(\"EC2 Instances Successfully Terminated\")"
   ]
  },
  {
   "cell_type": "code",
   "execution_count": null,
   "id": "11fc871b",
   "metadata": {},
   "outputs": [],
   "source": []
  },
  {
   "cell_type": "code",
   "execution_count": null,
   "id": "a2d249c5",
   "metadata": {},
   "outputs": [],
   "source": []
  }
 ],
 "metadata": {
  "kernelspec": {
   "display_name": "Python 3 (ipykernel)",
   "language": "python",
   "name": "python3"
  },
  "language_info": {
   "codemirror_mode": {
    "name": "ipython",
    "version": 3
   },
   "file_extension": ".py",
   "mimetype": "text/x-python",
   "name": "python",
   "nbconvert_exporter": "python",
   "pygments_lexer": "ipython3",
   "version": "3.7.11"
  }
 },
 "nbformat": 4,
 "nbformat_minor": 5
}
