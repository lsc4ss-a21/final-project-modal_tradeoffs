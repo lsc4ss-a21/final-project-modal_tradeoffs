{
 "cells": [
  {
   "cell_type": "markdown",
   "id": "b2ece0cb",
   "metadata": {},
   "source": [
    "# Compile outputs for pedestrian, bike, and auto together"
   ]
  },
  {
   "cell_type": "code",
   "execution_count": 1,
   "id": "c3caec66",
   "metadata": {},
   "outputs": [],
   "source": [
    "import pandas as pd\n",
    "import requests\n",
    "import boto3\n",
    "import json"
   ]
  },
  {
   "cell_type": "code",
   "execution_count": 2,
   "id": "318f256b",
   "metadata": {},
   "outputs": [],
   "source": [
    "city = \"NYC\"\n",
    "s3 = boto3.client('s3')"
   ]
  },
  {
   "cell_type": "code",
   "execution_count": 3,
   "id": "aeb6dc73",
   "metadata": {},
   "outputs": [
    {
     "name": "stdout",
     "output_type": "stream",
     "text": [
      "Started Reading JSON file which contains multiple JSON document\n",
      "Started Reading JSON file which contains multiple JSON document\n",
      "Started Reading JSON file which contains multiple JSON document\n",
      "Started Reading JSON file which contains multiple JSON document\n"
     ]
    }
   ],
   "source": [
    "final_df = pd.DataFrame()\n",
    "\n",
    "for i in range(4):\n",
    "    # read in output file\n",
    "    fileobj = s3.get_object(Bucket='bl-buildings',Key='Outputs/' + city + '_city_center_instance_' + str(i) + '_auto') \n",
    "    text = fileobj[\"Body\"].read().decode()\n",
    "    \n",
    "    # add a delimiter to the file\n",
    "    delimited_text = text.replace('\"units\":\"kilometers\"}{\"sources\"', '\"units\":\"kilometers\"}\\n{\"sources\"')\n",
    "    text_file = open(\"delimited.txt\", \"w\")\n",
    "    n = text_file.write(delimited_text)\n",
    "    text_file.close()\n",
    "    \n",
    "    # parse out dictionaries\n",
    "    resultsList = []\n",
    "    print(\"Started Reading JSON file which contains multiple JSON document\")\n",
    "    with open(\"delimited.txt\") as f:\n",
    "        for jsonObj in f:\n",
    "            resultsDict = json.loads(jsonObj)\n",
    "            resultsList.append(resultsDict)\n",
    "    \n",
    "    for j in range(len(resultsList)):\n",
    "        # get dataframe of lat/longs\n",
    "        df_sources = pd.DataFrame.from_records(resultsList[j][\"sources\"][0])\n",
    "\n",
    "        # get dataframe of distances and times\n",
    "        sources_to_targets_lst = [item for sublist in resultsList[j][\"sources_to_targets\"] for item in sublist]\n",
    "        df_sources_to_targets = pd.DataFrame.from_records(sources_to_targets_lst)\n",
    "\n",
    "        # merge together and keep relevant columns\n",
    "        merged = df_sources.merge(df_sources_to_targets, how=\"left\", left_index=True, right_index=True)\n",
    "        merged = merged[[\"lon\", \"lat\", \"time\"]].rename(columns={\"time\":\"auto_time\"})\n",
    "\n",
    "        final_df = pd.concat([final_df,merged],ignore_index=True)"
   ]
  },
  {
   "cell_type": "code",
   "execution_count": 4,
   "id": "0334e32d",
   "metadata": {},
   "outputs": [
    {
     "data": {
      "text/plain": [
       "(1132000, 3)"
      ]
     },
     "execution_count": 4,
     "metadata": {},
     "output_type": "execute_result"
    }
   ],
   "source": [
    "final_df.shape"
   ]
  },
  {
   "cell_type": "code",
   "execution_count": 5,
   "id": "cb7ea1a3",
   "metadata": {},
   "outputs": [],
   "source": [
    "final_df.to_csv('s3://bl-buildings/Outputs/' + city + '_final_df_auto.csv', index=False)"
   ]
  },
  {
   "cell_type": "code",
   "execution_count": null,
   "id": "01402441",
   "metadata": {},
   "outputs": [],
   "source": [
    "mode = \"bicycle\"\n",
    "\n",
    "final_df_mode = pd.DataFrame()\n",
    "\n",
    "for i in range(4):\n",
    "    # read in output file\n",
    "    fileobj = s3.get_object(Bucket='bl-buildings',Key='Outputs/' + city + '_city_center_instance_' + str(i) + '_' + mode) \n",
    "    text = fileobj[\"Body\"].read().decode()\n",
    "\n",
    "    # add a delimiter to the file\n",
    "    delimited_text = text.replace('\"units\":\"kilometers\"}{\"sources\"', '\"units\":\"kilometers\"}\\n{\"sources\"')\n",
    "    text_file = open(\"delimited.txt\", \"w\")\n",
    "    n = text_file.write(delimited_text)\n",
    "    text_file.close()\n",
    "\n",
    "    # parse out dictionaries\n",
    "    resultsList = []\n",
    "    print(\"Started Reading JSON file which contains multiple JSON document\")\n",
    "    with open(\"delimited.txt\") as f:\n",
    "        for jsonObj in f:\n",
    "            resultsDict = json.loads(jsonObj)\n",
    "            resultsList.append(resultsDict)\n",
    "\n",
    "    for j in range(len(resultsList)):\n",
    "        # get dataframe of lat/longs\n",
    "        df_sources = pd.DataFrame.from_records(resultsList[j][\"sources\"][0])\n",
    "\n",
    "        # get dataframe of distances and times\n",
    "        sources_to_targets_lst = [item for sublist in resultsList[j][\"sources_to_targets\"] for item in sublist]\n",
    "        df_sources_to_targets = pd.DataFrame.from_records(sources_to_targets_lst)\n",
    "\n",
    "        # merge together and keep relevant columns\n",
    "        merged = df_sources.merge(df_sources_to_targets, how=\"left\", left_index=True, right_index=True)\n",
    "        merged = merged[[\"lon\", \"lat\", \"time\"]].rename(columns={\"time\":mode + \"_time\"})\n",
    "\n",
    "        final_df_mode = pd.concat([final_df_mode,merged],ignore_index=True)"
   ]
  },
  {
   "cell_type": "code",
   "execution_count": null,
   "id": "e3953e81",
   "metadata": {},
   "outputs": [],
   "source": [
    "final_df_mode.to_csv('s3://bl-buildings/Outputs/' + city + '_final_df_bike.csv', index=False)"
   ]
  },
  {
   "cell_type": "code",
   "execution_count": null,
   "id": "a0dfda0d",
   "metadata": {},
   "outputs": [],
   "source": [
    "mode = \"pedestrian\"\n",
    "\n",
    "final_df_mode = pd.DataFrame()\n",
    "\n",
    "for i in range(4):\n",
    "    # read in output file\n",
    "    fileobj = s3.get_object(Bucket='bl-buildings',Key='Outputs/' + city + '_city_center_instance_' + str(i) + '_' + mode) \n",
    "    text = fileobj[\"Body\"].read().decode()\n",
    "\n",
    "    # add a delimiter to the file\n",
    "    delimited_text = text.replace('\"units\":\"kilometers\"}{\"sources\"', '\"units\":\"kilometers\"}\\n{\"sources\"')\n",
    "    text_file = open(\"delimited.txt\", \"w\")\n",
    "    n = text_file.write(delimited_text)\n",
    "    text_file.close()\n",
    "\n",
    "    # parse out dictionaries\n",
    "    resultsList = []\n",
    "    print(\"Started Reading JSON file which contains multiple JSON document\")\n",
    "    with open(\"delimited.txt\") as f:\n",
    "        for jsonObj in f:\n",
    "            resultsDict = json.loads(jsonObj)\n",
    "            resultsList.append(resultsDict)\n",
    "\n",
    "    for j in range(len(resultsList)):\n",
    "        # get dataframe of lat/longs\n",
    "        df_sources = pd.DataFrame.from_records(resultsList[j][\"sources\"][0])\n",
    "\n",
    "        # get dataframe of distances and times\n",
    "        sources_to_targets_lst = [item for sublist in resultsList[j][\"sources_to_targets\"] for item in sublist]\n",
    "        df_sources_to_targets = pd.DataFrame.from_records(sources_to_targets_lst)\n",
    "\n",
    "        # merge together and keep relevant columns\n",
    "        merged = df_sources.merge(df_sources_to_targets, how=\"left\", left_index=True, right_index=True)\n",
    "        merged = merged[[\"lon\", \"lat\", \"time\"]].rename(columns={\"time\":mode + \"_time\"})\n",
    "\n",
    "        final_df_mode = pd.concat([final_df_mode,merged],ignore_index=True)"
   ]
  },
  {
   "cell_type": "code",
   "execution_count": null,
   "id": "748fdbfb",
   "metadata": {},
   "outputs": [],
   "source": [
    "final_df_mode.to_csv('s3://bl-buildings/Outputs/' + city + '_final_df_pedestrian.csv', index=False)"
   ]
  },
  {
   "cell_type": "code",
   "execution_count": null,
   "id": "bddd83da",
   "metadata": {},
   "outputs": [],
   "source": []
  }
 ],
 "metadata": {
  "kernelspec": {
   "display_name": "Python 3 (ipykernel)",
   "language": "python",
   "name": "python3"
  },
  "language_info": {
   "codemirror_mode": {
    "name": "ipython",
    "version": 3
   },
   "file_extension": ".py",
   "mimetype": "text/x-python",
   "name": "python",
   "nbconvert_exporter": "python",
   "pygments_lexer": "ipython3",
   "version": "3.7.11"
  }
 },
 "nbformat": 4,
 "nbformat_minor": 5
}
