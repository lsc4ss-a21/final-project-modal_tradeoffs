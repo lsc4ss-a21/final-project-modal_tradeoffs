{
 "cells": [
  {
   "cell_type": "markdown",
   "id": "c0fbe648",
   "metadata": {},
   "source": [
    "# Compile Toronto output data for pedestrian, bike, auto, and public transport"
   ]
  },
  {
   "cell_type": "code",
   "execution_count": 1,
   "id": "ac0bf995",
   "metadata": {},
   "outputs": [],
   "source": [
    "import pandas as pd\n",
    "import requests\n",
    "import boto3\n",
    "import json"
   ]
  },
  {
   "cell_type": "code",
   "execution_count": null,
   "id": "0a93433a",
   "metadata": {},
   "outputs": [],
   "source": [
    "city = \"Ontario\""
   ]
  },
  {
   "cell_type": "code",
   "execution_count": 24,
   "id": "ac822523",
   "metadata": {},
   "outputs": [
    {
     "name": "stdout",
     "output_type": "stream",
     "text": [
      "Started Reading JSON file which contains multiple JSON document\n",
      "Started Reading JSON file which contains multiple JSON document\n",
      "Started Reading JSON file which contains multiple JSON document\n",
      "Started Reading JSON file which contains multiple JSON document\n"
     ]
    }
   ],
   "source": [
    "s3 = boto3.client('s3')\n",
    "\n",
    "final_df = pd.DataFrame()\n",
    "\n",
    "for i in range(4):\n",
    "    # read in output file\n",
    "    fileobj = s3.get_object(Bucket='bl-buildings',Key='Outputs/' + city + '_city_center_instance_' + str(i) + '_auto') \n",
    "    text = fileobj[\"Body\"].read().decode()\n",
    "    \n",
    "    # add a delimiter to the file\n",
    "    delimited_text = text.replace('\"units\":\"kilometers\"}{\"sources\"', '\"units\":\"kilometers\"}\\n{\"sources\"')\n",
    "    text_file = open(\"delimited.txt\", \"w\")\n",
    "    n = text_file.write(delimited_text)\n",
    "    text_file.close()\n",
    "    \n",
    "    # parse out dictionaries\n",
    "    resultsList = []\n",
    "    print(\"Started Reading JSON file which contains multiple JSON document\")\n",
    "    with open(\"delimited.txt\") as f:\n",
    "        for jsonObj in f:\n",
    "            resultsDict = json.loads(jsonObj)\n",
    "            resultsList.append(resultsDict)\n",
    "    \n",
    "    for j in range(len(resultsList)):\n",
    "        # get dataframe of lat/longs\n",
    "        df_sources = pd.DataFrame.from_records(resultsList[j][\"sources\"][0])\n",
    "\n",
    "        # get dataframe of distances and times\n",
    "        sources_to_targets_lst = [item for sublist in resultsList[j][\"sources_to_targets\"] for item in sublist]\n",
    "        df_sources_to_targets = pd.DataFrame.from_records(sources_to_targets_lst)\n",
    "\n",
    "        # merge together and keep relevant columns\n",
    "        merged = df_sources.merge(df_sources_to_targets, how=\"left\", left_index=True, right_index=True)\n",
    "        merged = merged[[\"lon\", \"lat\", \"time\"]].rename(columns={\"time\":\"auto_time\"})\n",
    "\n",
    "        final_df = pd.concat([final_df,merged],ignore_index=True)"
   ]
  },
  {
   "cell_type": "code",
   "execution_count": 25,
   "id": "f595c392",
   "metadata": {},
   "outputs": [
    {
     "data": {
      "text/plain": [
       "(53296, 3)"
      ]
     },
     "execution_count": 25,
     "metadata": {},
     "output_type": "execute_result"
    }
   ],
   "source": [
    "final_df.shape"
   ]
  },
  {
   "cell_type": "code",
   "execution_count": 26,
   "id": "79ae9faa",
   "metadata": {},
   "outputs": [
    {
     "name": "stdout",
     "output_type": "stream",
     "text": [
      "Started Reading JSON file which contains multiple JSON document\n",
      "Started Reading JSON file which contains multiple JSON document\n",
      "Started Reading JSON file which contains multiple JSON document\n",
      "Started Reading JSON file which contains multiple JSON document\n",
      "Started Reading JSON file which contains multiple JSON document\n",
      "Started Reading JSON file which contains multiple JSON document\n",
      "Started Reading JSON file which contains multiple JSON document\n",
      "Started Reading JSON file which contains multiple JSON document\n"
     ]
    }
   ],
   "source": [
    "for mode in [\"bicycle\", \"pedestrian\"]:\n",
    "    \n",
    "    final_df_mode = pd.DataFrame()\n",
    "    \n",
    "    for i in range(4):\n",
    "        # read in output file\n",
    "        fileobj = s3.get_object(Bucket='bl-buildings',Key='Outputs/' + city + '_city_center_instance_' + str(i) + '_' + mode) \n",
    "        text = fileobj[\"Body\"].read().decode()\n",
    "\n",
    "        # add a delimiter to the file\n",
    "        delimited_text = text.replace('\"units\":\"kilometers\"}{\"sources\"', '\"units\":\"kilometers\"}\\n{\"sources\"')\n",
    "        text_file = open(\"delimited.txt\", \"w\")\n",
    "        n = text_file.write(delimited_text)\n",
    "        text_file.close()\n",
    "\n",
    "        # parse out dictionaries\n",
    "        resultsList = []\n",
    "        print(\"Started Reading JSON file which contains multiple JSON document\")\n",
    "        with open(\"delimited.txt\") as f:\n",
    "            for jsonObj in f:\n",
    "                resultsDict = json.loads(jsonObj)\n",
    "                resultsList.append(resultsDict)\n",
    "\n",
    "        for j in range(len(resultsList)):\n",
    "            # get dataframe of lat/longs\n",
    "            df_sources = pd.DataFrame.from_records(resultsList[j][\"sources\"][0])\n",
    "\n",
    "            # get dataframe of distances and times\n",
    "            sources_to_targets_lst = [item for sublist in resultsList[j][\"sources_to_targets\"] for item in sublist]\n",
    "            df_sources_to_targets = pd.DataFrame.from_records(sources_to_targets_lst)\n",
    "\n",
    "            # merge together and keep relevant columns\n",
    "            merged = df_sources.merge(df_sources_to_targets, how=\"left\", left_index=True, right_index=True)\n",
    "            merged = merged[[\"lon\", \"lat\", \"time\"]].rename(columns={\"time\":mode + \"_time\"})\n",
    "\n",
    "            final_df_mode = pd.concat([final_df_mode,merged],ignore_index=True)\n",
    "            \n",
    "    final_df = final_df.merge(final_df_mode, left_on=[\"lon\", \"lat\"], right_on=[\"lon\", \"lat\"])"
   ]
  },
  {
   "cell_type": "code",
   "execution_count": 27,
   "id": "81c71852",
   "metadata": {},
   "outputs": [
    {
     "data": {
      "text/plain": [
       "(53296, 5)"
      ]
     },
     "execution_count": 27,
     "metadata": {},
     "output_type": "execute_result"
    }
   ],
   "source": [
    "final_df.shape"
   ]
  },
  {
   "cell_type": "code",
   "execution_count": 28,
   "id": "ee6639dc",
   "metadata": {},
   "outputs": [
    {
     "name": "stdout",
     "output_type": "stream",
     "text": [
      "Started Reading JSON file which contains multiple JSON document\n",
      "13324\n",
      "Started Reading JSON file which contains multiple JSON document\n",
      "14185\n",
      "Started Reading JSON file which contains multiple JSON document\n",
      "13324\n",
      "Started Reading JSON file which contains multiple JSON document\n",
      "13324\n"
     ]
    }
   ],
   "source": [
    "final_df_transit = pd.DataFrame()\n",
    "\n",
    "for batch in range(4):\n",
    "    fileobj = s3.get_object(Bucket='bl-buildings',Key='Outputs/' + city + '_public_transit_' + str(batch)) \n",
    "    text = fileobj[\"Body\"].read().decode().replace(\"\\n\",\"\").replace(\"null\",'{\"cost\":-1}\\n')\\\n",
    "                    .replace(\"  \", \"\").replace('}{\"has_time', '}\\n{\"has_time')\\\n",
    "                    .replace('}{\"cost\"', '}\\n{\"cost\"')\n",
    "    text_file = open(\"delimited.txt\", \"w\")\n",
    "    n = text_file.write(text)\n",
    "    text_file.close()\n",
    "\n",
    "    # parse out dictionaries\n",
    "    resultsList = []\n",
    "    print(\"Started Reading JSON file which contains multiple JSON document\")\n",
    "    with open(\"delimited.txt\") as f:\n",
    "        for jsonObj in f:\n",
    "            resultsDict = json.loads(jsonObj)\n",
    "            resultsList.append(resultsDict)\n",
    "            \n",
    "    print(len(resultsList))\n",
    "            \n",
    "    results_df = pd.DataFrame.from_records(resultsList[-13324:])\n",
    "    \n",
    "    final_df_transit = pd.concat([final_df_transit,results_df],ignore_index=True)"
   ]
  },
  {
   "cell_type": "code",
   "execution_count": 29,
   "id": "10fc6f28",
   "metadata": {},
   "outputs": [
    {
     "data": {
      "text/plain": [
       "(53296, 8)"
      ]
     },
     "execution_count": 29,
     "metadata": {},
     "output_type": "execute_result"
    }
   ],
   "source": [
    "final_df_transit.shape"
   ]
  },
  {
   "cell_type": "code",
   "execution_count": 8,
   "id": "663fc08e",
   "metadata": {},
   "outputs": [
    {
     "name": "stdout",
     "output_type": "stream",
     "text": [
      "Started Reading JSON file which contains multiple JSON document\n",
      "Started Reading JSON file which contains multiple JSON document\n",
      "Started Reading JSON file which contains multiple JSON document\n",
      "Started Reading JSON file which contains multiple JSON document\n"
     ]
    }
   ],
   "source": [
    "orig_input = pd.DataFrame()\n",
    "\n",
    "for batch in range(4):\n",
    "    fileobj = s3.get_object(Bucket='bl-buildings',Key='Inputs/' + city + '_public_transit_batch_' + str(batch)) \n",
    "    text = fileobj[\"Body\"].read().decode().replace('}{\"locations\"', '}\\n{\"locations\"')\n",
    "    text_file = open(\"orig_input.txt\", \"w\")\n",
    "    n = text_file.write(text)\n",
    "    text_file.close()\n",
    "    \n",
    "    resultsList = []\n",
    "    print(\"Started Reading JSON file which contains multiple JSON document\")\n",
    "    with open(\"orig_input.txt\") as f:\n",
    "        for jsonObj in f:\n",
    "            resultsDict = json.loads(jsonObj)\n",
    "            resultsList.append(resultsDict[\"locations\"][0])\n",
    "            \n",
    "    results_df = pd.DataFrame.from_records(resultsList)\n",
    "    \n",
    "    orig_input = pd.concat([orig_input,results_df],ignore_index=True)\n"
   ]
  },
  {
   "cell_type": "code",
   "execution_count": 31,
   "id": "e76991a7",
   "metadata": {},
   "outputs": [
    {
     "data": {
      "text/plain": [
       "(53296, 4)"
      ]
     },
     "execution_count": 31,
     "metadata": {},
     "output_type": "execute_result"
    }
   ],
   "source": [
    "public_transit_merged.shape"
   ]
  },
  {
   "cell_type": "code",
   "execution_count": 9,
   "id": "4b0b7cc2",
   "metadata": {},
   "outputs": [],
   "source": [
    "public_transit_merged = orig_input\\\n",
    "                        .merge(final_df_transit, left_index=True, right_index=True)[[\"lat\", \"lon\", \"cost\", \"time\"]]"
   ]
  },
  {
   "cell_type": "code",
   "execution_count": 38,
   "id": "ef68ba1c",
   "metadata": {},
   "outputs": [],
   "source": [
    "final_df = final_df.merge(public_transit_merged, left_on=[\"lon\", \"lat\"], right_on=[\"lon\", \"lat\"], how=\"left\")"
   ]
  },
  {
   "cell_type": "code",
   "execution_count": 39,
   "id": "856263a4",
   "metadata": {},
   "outputs": [],
   "source": [
    "final_df = final_df.rename(columns={\"time\":\"transit_time\"})"
   ]
  },
  {
   "cell_type": "code",
   "execution_count": 40,
   "id": "f0006e1f",
   "metadata": {},
   "outputs": [],
   "source": [
    "final_df[\"transit_auto_ratio\"] = final_df[\"transit_time\"]/final_df[\"auto_time\"]"
   ]
  },
  {
   "cell_type": "code",
   "execution_count": 41,
   "id": "43890c0b",
   "metadata": {},
   "outputs": [
    {
     "data": {
      "text/plain": [
       "(53296, 8)"
      ]
     },
     "execution_count": 41,
     "metadata": {},
     "output_type": "execute_result"
    }
   ],
   "source": [
    "final_df.shape"
   ]
  },
  {
   "cell_type": "code",
   "execution_count": 42,
   "id": "ffa22cb1",
   "metadata": {},
   "outputs": [],
   "source": [
    "final_df.to_csv('s3://bl-buildings/Outputs/' + city + '_final_df.csv', index=False)"
   ]
  },
  {
   "cell_type": "code",
   "execution_count": 43,
   "id": "d642165f",
   "metadata": {},
   "outputs": [
    {
     "name": "stderr",
     "output_type": "stream",
     "text": [
      "/anaconda3/envs/macs30123/lib/python3.7/site-packages/pyproj/crs/crs.py:131: FutureWarning: '+init=<authority>:<code>' syntax is deprecated. '<authority>:<code>' is the preferred initialization method. When making the change, be mindful of axis order changes: https://pyproj4.github.io/pyproj/stable/gotchas.html#axis-order-changes-in-proj-6\n",
      "  in_crs_string = _prepare_from_proj_string(in_crs_string)\n",
      "/anaconda3/envs/macs30123/lib/python3.7/site-packages/pyproj/crs/crs.py:131: FutureWarning: '+init=<authority>:<code>' syntax is deprecated. '<authority>:<code>' is the preferred initialization method. When making the change, be mindful of axis order changes: https://pyproj4.github.io/pyproj/stable/gotchas.html#axis-order-changes-in-proj-6\n",
      "  in_crs_string = _prepare_from_proj_string(in_crs_string)\n",
      "/anaconda3/envs/macs30123/lib/python3.7/site-packages/ipykernel_launcher.py:8: DeprecationWarning: This function is deprecated. See: https://pyproj4.github.io/pyproj/stable/gotchas.html#upgrading-to-pyproj-2-from-pyproj-1\n",
      "  \n"
     ]
    }
   ],
   "source": [
    "import pandas as pd\n",
    "from pyproj import Proj, transform\n",
    "\n",
    "inProj = Proj(init='epsg:4326')\n",
    "outProj = Proj(init='epsg:3857')\n",
    "\n",
    "def towgs84(row):\n",
    "    return pd.Series(transform(inProj, outProj, row[\"lon\"], row[\"lat\"]))\n",
    "\n",
    "wsg84_df = final_df.apply(towgs84, axis=1) "
   ]
  },
  {
   "cell_type": "code",
   "execution_count": 44,
   "id": "78b4763d",
   "metadata": {},
   "outputs": [],
   "source": [
    "final_df_mercator = final_df.merge(wsg84_df, how=\"left\", left_index=True, right_index=True)\\\n",
    "                            .rename(columns={0:\"x\", 1:\"y\"})"
   ]
  },
  {
   "cell_type": "code",
   "execution_count": 45,
   "id": "6c971eae",
   "metadata": {},
   "outputs": [
    {
     "data": {
      "text/html": [
       "<div>\n",
       "<style scoped>\n",
       "    .dataframe tbody tr th:only-of-type {\n",
       "        vertical-align: middle;\n",
       "    }\n",
       "\n",
       "    .dataframe tbody tr th {\n",
       "        vertical-align: top;\n",
       "    }\n",
       "\n",
       "    .dataframe thead th {\n",
       "        text-align: right;\n",
       "    }\n",
       "</style>\n",
       "<table border=\"1\" class=\"dataframe\">\n",
       "  <thead>\n",
       "    <tr style=\"text-align: right;\">\n",
       "      <th></th>\n",
       "      <th>lon</th>\n",
       "      <th>lat</th>\n",
       "      <th>auto_time</th>\n",
       "      <th>bicycle_time</th>\n",
       "      <th>pedestrian_time</th>\n",
       "      <th>cost</th>\n",
       "      <th>transit_time</th>\n",
       "      <th>transit_auto_ratio</th>\n",
       "      <th>x</th>\n",
       "      <th>y</th>\n",
       "    </tr>\n",
       "  </thead>\n",
       "  <tbody>\n",
       "    <tr>\n",
       "      <th>0</th>\n",
       "      <td>-79.412416</td>\n",
       "      <td>43.708857</td>\n",
       "      <td>775.0</td>\n",
       "      <td>1711.0</td>\n",
       "      <td>4819</td>\n",
       "      <td>NaN</td>\n",
       "      <td>NaN</td>\n",
       "      <td>NaN</td>\n",
       "      <td>-8.840150e+06</td>\n",
       "      <td>5.420497e+06</td>\n",
       "    </tr>\n",
       "    <tr>\n",
       "      <th>1</th>\n",
       "      <td>-79.409479</td>\n",
       "      <td>43.708958</td>\n",
       "      <td>734.0</td>\n",
       "      <td>1711.0</td>\n",
       "      <td>4715</td>\n",
       "      <td>NaN</td>\n",
       "      <td>NaN</td>\n",
       "      <td>NaN</td>\n",
       "      <td>-8.839823e+06</td>\n",
       "      <td>5.420513e+06</td>\n",
       "    </tr>\n",
       "    <tr>\n",
       "      <th>2</th>\n",
       "      <td>-79.414928</td>\n",
       "      <td>43.710219</td>\n",
       "      <td>809.0</td>\n",
       "      <td>1784.0</td>\n",
       "      <td>5070</td>\n",
       "      <td>NaN</td>\n",
       "      <td>NaN</td>\n",
       "      <td>NaN</td>\n",
       "      <td>-8.840429e+06</td>\n",
       "      <td>5.420707e+06</td>\n",
       "    </tr>\n",
       "    <tr>\n",
       "      <th>3</th>\n",
       "      <td>-79.413304</td>\n",
       "      <td>43.711973</td>\n",
       "      <td>804.0</td>\n",
       "      <td>1772.0</td>\n",
       "      <td>5029</td>\n",
       "      <td>NaN</td>\n",
       "      <td>NaN</td>\n",
       "      <td>NaN</td>\n",
       "      <td>-8.840249e+06</td>\n",
       "      <td>5.420977e+06</td>\n",
       "    </tr>\n",
       "    <tr>\n",
       "      <th>4</th>\n",
       "      <td>-79.415241</td>\n",
       "      <td>43.715173</td>\n",
       "      <td>821.0</td>\n",
       "      <td>1893.0</td>\n",
       "      <td>5423</td>\n",
       "      <td>NaN</td>\n",
       "      <td>NaN</td>\n",
       "      <td>NaN</td>\n",
       "      <td>-8.840464e+06</td>\n",
       "      <td>5.421470e+06</td>\n",
       "    </tr>\n",
       "    <tr>\n",
       "      <th>...</th>\n",
       "      <td>...</td>\n",
       "      <td>...</td>\n",
       "      <td>...</td>\n",
       "      <td>...</td>\n",
       "      <td>...</td>\n",
       "      <td>...</td>\n",
       "      <td>...</td>\n",
       "      <td>...</td>\n",
       "      <td>...</td>\n",
       "      <td>...</td>\n",
       "    </tr>\n",
       "    <tr>\n",
       "      <th>53291</th>\n",
       "      <td>-79.309560</td>\n",
       "      <td>43.666485</td>\n",
       "      <td>668.0</td>\n",
       "      <td>1557.0</td>\n",
       "      <td>4912</td>\n",
       "      <td>NaN</td>\n",
       "      <td>NaN</td>\n",
       "      <td>NaN</td>\n",
       "      <td>-8.828700e+06</td>\n",
       "      <td>5.413974e+06</td>\n",
       "    </tr>\n",
       "    <tr>\n",
       "      <th>53292</th>\n",
       "      <td>-79.288148</td>\n",
       "      <td>43.670974</td>\n",
       "      <td>939.0</td>\n",
       "      <td>2382.0</td>\n",
       "      <td>6198</td>\n",
       "      <td>NaN</td>\n",
       "      <td>NaN</td>\n",
       "      <td>NaN</td>\n",
       "      <td>-8.826316e+06</td>\n",
       "      <td>5.414665e+06</td>\n",
       "    </tr>\n",
       "    <tr>\n",
       "      <th>53293</th>\n",
       "      <td>-79.286943</td>\n",
       "      <td>43.673821</td>\n",
       "      <td>911.0</td>\n",
       "      <td>2393.0</td>\n",
       "      <td>6324</td>\n",
       "      <td>NaN</td>\n",
       "      <td>NaN</td>\n",
       "      <td>NaN</td>\n",
       "      <td>-8.826182e+06</td>\n",
       "      <td>5.415103e+06</td>\n",
       "    </tr>\n",
       "    <tr>\n",
       "      <th>53294</th>\n",
       "      <td>-79.284854</td>\n",
       "      <td>43.674476</td>\n",
       "      <td>899.0</td>\n",
       "      <td>2453.0</td>\n",
       "      <td>6464</td>\n",
       "      <td>NaN</td>\n",
       "      <td>NaN</td>\n",
       "      <td>NaN</td>\n",
       "      <td>-8.825950e+06</td>\n",
       "      <td>5.415204e+06</td>\n",
       "    </tr>\n",
       "    <tr>\n",
       "      <th>53295</th>\n",
       "      <td>-79.287694</td>\n",
       "      <td>43.675556</td>\n",
       "      <td>891.0</td>\n",
       "      <td>2436.0</td>\n",
       "      <td>6473</td>\n",
       "      <td>NaN</td>\n",
       "      <td>NaN</td>\n",
       "      <td>NaN</td>\n",
       "      <td>-8.826266e+06</td>\n",
       "      <td>5.415370e+06</td>\n",
       "    </tr>\n",
       "  </tbody>\n",
       "</table>\n",
       "<p>53296 rows × 10 columns</p>\n",
       "</div>"
      ],
      "text/plain": [
       "             lon        lat  auto_time  bicycle_time  pedestrian_time  cost  \\\n",
       "0     -79.412416  43.708857      775.0        1711.0             4819   NaN   \n",
       "1     -79.409479  43.708958      734.0        1711.0             4715   NaN   \n",
       "2     -79.414928  43.710219      809.0        1784.0             5070   NaN   \n",
       "3     -79.413304  43.711973      804.0        1772.0             5029   NaN   \n",
       "4     -79.415241  43.715173      821.0        1893.0             5423   NaN   \n",
       "...          ...        ...        ...           ...              ...   ...   \n",
       "53291 -79.309560  43.666485      668.0        1557.0             4912   NaN   \n",
       "53292 -79.288148  43.670974      939.0        2382.0             6198   NaN   \n",
       "53293 -79.286943  43.673821      911.0        2393.0             6324   NaN   \n",
       "53294 -79.284854  43.674476      899.0        2453.0             6464   NaN   \n",
       "53295 -79.287694  43.675556      891.0        2436.0             6473   NaN   \n",
       "\n",
       "       transit_time  transit_auto_ratio             x             y  \n",
       "0               NaN                 NaN -8.840150e+06  5.420497e+06  \n",
       "1               NaN                 NaN -8.839823e+06  5.420513e+06  \n",
       "2               NaN                 NaN -8.840429e+06  5.420707e+06  \n",
       "3               NaN                 NaN -8.840249e+06  5.420977e+06  \n",
       "4               NaN                 NaN -8.840464e+06  5.421470e+06  \n",
       "...             ...                 ...           ...           ...  \n",
       "53291           NaN                 NaN -8.828700e+06  5.413974e+06  \n",
       "53292           NaN                 NaN -8.826316e+06  5.414665e+06  \n",
       "53293           NaN                 NaN -8.826182e+06  5.415103e+06  \n",
       "53294           NaN                 NaN -8.825950e+06  5.415204e+06  \n",
       "53295           NaN                 NaN -8.826266e+06  5.415370e+06  \n",
       "\n",
       "[53296 rows x 10 columns]"
      ]
     },
     "execution_count": 45,
     "metadata": {},
     "output_type": "execute_result"
    }
   ],
   "source": [
    "final_df_mercator"
   ]
  },
  {
   "cell_type": "code",
   "execution_count": 46,
   "id": "315f5439",
   "metadata": {},
   "outputs": [],
   "source": [
    "final_df_mercator.to_csv('s3://bl-buildings/Outputs/' + city + '_final_df_mercator.csv', index=False)"
   ]
  },
  {
   "cell_type": "code",
   "execution_count": null,
   "id": "50324366",
   "metadata": {},
   "outputs": [],
   "source": []
  }
 ],
 "metadata": {
  "kernelspec": {
   "display_name": "Python 3 (ipykernel)",
   "language": "python",
   "name": "python3"
  },
  "language_info": {
   "codemirror_mode": {
    "name": "ipython",
    "version": 3
   },
   "file_extension": ".py",
   "mimetype": "text/x-python",
   "name": "python",
   "nbconvert_exporter": "python",
   "pygments_lexer": "ipython3",
   "version": "3.7.11"
  }
 },
 "nbformat": 4,
 "nbformat_minor": 5
}
